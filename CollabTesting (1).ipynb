{
  "nbformat": 4,
  "nbformat_minor": 0,
  "metadata": {
    "colab": {
      "provenance": []
    },
    "kernelspec": {
      "name": "python3",
      "display_name": "Python 3"
    },
    "language_info": {
      "name": "python"
    }
  },
  "cells": [
    {
      "cell_type": "code",
      "execution_count": null,
      "metadata": {
        "id": "brKY9rLnFQKy"
      },
      "outputs": [],
      "source": [
        "!git --version\n",
        "!git config --global user.email \"lawrence_mike@icloud.com\"\n",
        "\n",
        "\n",
        "!git config --global user.name \"M1keLawrence\""
      ]
    },
    {
      "cell_type": "markdown",
      "source": [
        "Random text wanted for .py conversion testing"
      ],
      "metadata": {
        "id": "NeL821rhMZwP"
      }
    },
    {
      "cell_type": "code",
      "source": [
        "print(\"Hello World\")"
      ],
      "metadata": {
        "id": "siKO90O3MdVn"
      },
      "execution_count": null,
      "outputs": []
    }
  ]
}